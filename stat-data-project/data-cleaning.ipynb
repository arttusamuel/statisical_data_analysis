{
 "cells": [
  {
   "cell_type": "markdown",
   "metadata": {},
   "source": [
    "\n",
    "\n",
    "### TASKS\n",
    "1. Data cleaning and preparation\n",
    "2. Explorative analysis\n",
    "    - Visuals -> hist, plot, heatmap mby?\n",
    "    - Descriptive statistics -> mean, median, std deviation, freq counts \n",
    "    - Figuring out which measures are important\n",
    "    - Recognizing patternd and special groups etc.\n",
    "    - Few hypotheses -> relations, group behaviour etc.\n",
    "3. Statistical Analysis\n",
    "    - Do testing -> T-test, chi-square, ANOVA jne.\n",
    "    - Confidence intervals and Estimation about parameter(s) that best represent the population\n",
    "    - Regression and modeling\n",
    "    - Hyphothese and its testing\n",
    "4. Must do a statistical model"
   ]
  },
  {
   "cell_type": "markdown",
   "metadata": {},
   "source": [
    "### Reviewing criteria\n",
    "1. Data preparation DONE\n",
    "2. Use of descriptive statistics -> Working ON\n",
    "3. Use of estimation and statistical test -> NEXT UP\n",
    "4. Argumentation for design choices -> Working ON \n",
    "5. interpretation of results\n",
    "\n",
    "### Tasks from the hypothetical scheme\n",
    "1. Characterise the individuals that are present in the data. Are there groups of similar persons?\n",
    "    - Distributions for all categorical values DONE\n",
    "    - Find out if certain age, sex, and municipality groups have similiar activities ALMOST DONE\n",
    "2. Estimate how much time on average households spend daily on each activity.\n",
    "    - try out mean and medians for activities\n",
    "3. With respect to which activities do men and women differ?\n",
    "4. With respect to which activities do living environments differ?\n",
    "5. Which activities are associated with each other?"
   ]
  },
  {
   "cell_type": "markdown",
   "metadata": {},
   "source": [
    "## Use of AI\n",
    "\n",
    "1. Explanatory summaries of topics where I quite not understand what is the meaning of a certain statistical test where lecture slides did not answer arising questions. \n",
    "2. I have GitHub Copilot purchased by my employer. In the project I only used the code suggestions (works similiarly to snippets), that helps with repetative code and faster typing. I did NOT use the generative prompt tool. I have also found in my previous work that prompting often causes a lot of work in form of rewriting code, so I tend not to use it anyway.  \n",
    "3. Some occasions I asked explanations from ChatGPT about ie. pd.dataframe syntax, since it is sometimes a bit confusing."
   ]
  },
  {
   "cell_type": "markdown",
   "metadata": {},
   "source": [
    "# Project work"
   ]
  },
  {
   "cell_type": "code",
   "execution_count": 1487,
   "metadata": {},
   "outputs": [],
   "source": [
    "import pandas as pd\n",
    "import numpy as np\n",
    "import matplotlib.pyplot as plt\n",
    "import scipy.stats as sc\n",
    "plt.style.use('ggplot') # found from online tutorial\n",
    "# import seaborn as sns\n",
    "\n"
   ]
  },
  {
   "cell_type": "code",
   "execution_count": 1488,
   "metadata": {},
   "outputs": [],
   "source": [
    "# Loading data\n",
    "df = pd.read_csv('./habits.data',\n",
    "                sep=\";\",\n",
    "                na_values=[\"?\"],\n",
    "                index_col=False,\n",
    "                header=0)"
   ]
  },
  {
   "cell_type": "markdown",
   "metadata": {},
   "source": [
    "### Data types"
   ]
  },
  {
   "cell_type": "markdown",
   "metadata": {},
   "source": [
    "#### Demographic variables\n",
    "- kohde - household ID: nominal\n",
    "- jasen - member ID (within household): nominal\n",
    "- pvknro - day of week: categorical, nominal and binary\n",
    "- sp - sex: categorical, nominal and binary\n",
    "- IKAL1 - age group: categorical, ordinal\n",
    "- ASALUE - living environment: categorical, nominal\n",
    "\n",
    "\n",
    "#### Activity variables\n",
    "Time spent on activities (measured in minutes): Quantitative, ratio\n",
    "- V1 - working: ratio\n",
    "- V5 - cooking: ratio\n",
    "- V21 - childcare: ratio\n",
    "- V22 - reading and playing with children: ratio\n",
    "\n",
    "Place visited in past 12 months \n",
    "- Values: Categorical, indicator, binary\n",
    "    - 1 = yes\n",
    "    - 2 = no\n",
    "\n",
    "- H1a_A - cinema: indicator\n",
    "- H1b_A - theater: indicator\n"
   ]
  },
  {
   "cell_type": "markdown",
   "metadata": {},
   "source": []
  },
  {
   "cell_type": "markdown",
   "metadata": {},
   "source": [
    "## 1. Data preparation"
   ]
  },
  {
   "cell_type": "markdown",
   "metadata": {},
   "source": [
    "At first glance NaN-values will be dropped, but may change over the study if effect on results seem good either way. \n",
    "\n",
    "At first I thought of filling zero values with mean or medians but they would heavily influence the results pushing up correlation and other metrics. It seems that particioners have deliberatley chosen 0 minutes and therefore they are not active on these metrics at all. This must be included in the results."
   ]
  },
  {
   "cell_type": "markdown",
   "metadata": {},
   "source": [
    "### Importing, renaming, description"
   ]
  },
  {
   "cell_type": "code",
   "execution_count": 1489,
   "metadata": {},
   "outputs": [],
   "source": [
    "# Keep relevant columns\n",
    "columns_to_keep = ['kohde', \n",
    "                   'jasen', \n",
    "                   'pvknro', \n",
    "                   'sp', \n",
    "                   'IKAL1', \n",
    "                   'ASALUE', \n",
    "                   'V1', \n",
    "                   'V21', \n",
    "                   'V22', \n",
    "                   'V5', \n",
    "                   'H1a_A', \n",
    "                   'H1b_A']\n",
    "df = df[columns_to_keep].copy()\n",
    "# df"
   ]
  },
  {
   "cell_type": "code",
   "execution_count": 1490,
   "metadata": {},
   "outputs": [],
   "source": [
    "# Renaming columns\n",
    "df.rename(columns={'kohde': 'household_id', \n",
    "                   'jasen': 'member_id', \n",
    "                   'pvknro': 'day_of_week', \n",
    "                   'sp': 'sex', \n",
    "                   'IKAL1': 'age_group', \n",
    "                   'ASALUE': 'area', \n",
    "                   'V1': 't_working', \n",
    "                   'V21': 't_cooking', \n",
    "                   'V22': 't_childcare', \n",
    "                   'V5': 't_activity_w_child', \n",
    "                   'H1a_A': 'visited_cinema', \n",
    "                   'H1b_A': 'visited_theatre'\n",
    "                   }, inplace=True)"
   ]
  },
  {
   "cell_type": "code",
   "execution_count": null,
   "metadata": {},
   "outputs": [],
   "source": [
    "print(df.info(), \"\\n\\n\")\n",
    "print(df.describe().round(2), \"\\n\\n\")\n",
    "print(df.isna().sum(),\"\\n\\n\")\n",
    "print(df.nunique(), \"\\n\\n\")"
   ]
  },
  {
   "cell_type": "markdown",
   "metadata": {},
   "source": [
    "#### Notes from initial data check\n",
    "\n",
    "- 338 unique household IDs\n",
    "- Other categorical values have all categories stated in data info\n",
    "- In non-categoric values there is lots of NaN values. \n",
    "- Not taking NaNs in to account the data uniqueness seems ok. \n",
    "- At least the lower 25% has 0 minutes in all activities\n",
    "- Dtypes are not correct\n"
   ]
  },
  {
   "cell_type": "markdown",
   "metadata": {},
   "source": [
    "### Cleaning erroneous values"
   ]
  },
  {
   "cell_type": "code",
   "execution_count": null,
   "metadata": {},
   "outputs": [],
   "source": [
    "# df[['visited_cinema', 'visited_theatre']].value_counts() --> Shows bad values\n",
    "\n",
    "# 'Visited_Cinema' and 'Visited_Theatre' has NaN values and other erroneous values\n",
    "# Change errenoeus to NaN and then delete all rows containing NaN values\n",
    "\n",
    "df['visited_cinema'] = df['visited_cinema'].apply(lambda x: 'Yes' if x == 1.0 else 'No' if x == 2.0 else np.nan)\n",
    "df['visited_theatre'] = df['visited_theatre'].apply(lambda x: 'Yes' if x == 1.0 else 'No' if x == 2.0 else np.nan)\n",
    "df.dropna(subset=['visited_cinema', 'visited_theatre'], inplace=True)\n",
    "\n",
    "print(df.isna().sum())\n"
   ]
  },
  {
   "cell_type": "code",
   "execution_count": 1493,
   "metadata": {},
   "outputs": [],
   "source": [
    "columns_to_clean = ['t_working','t_cooking', 't_childcare', 't_activity_w_child']\n",
    "for column in columns_to_clean:\n",
    "    df[column] = df[column].apply(\n",
    "        lambda x: pd.to_numeric(x, errors='coerce')  # Convert to numeric, set invalid to NaN\n",
    "    )\n",
    "    df[column] = df[column].fillna(0).astype(int)  # Replace NaN with 0 before conversion"
   ]
  },
  {
   "cell_type": "markdown",
   "metadata": {},
   "source": [
    "After handling bad quality data, there is 23 households with that have answered only for weekend or weekday. Dropping them so all data has corresponding data for weekend and weekday."
   ]
  },
  {
   "cell_type": "code",
   "execution_count": null,
   "metadata": {},
   "outputs": [],
   "source": [
    "# Testing if there are more than 2 answers per household\n",
    "one = (df['household_id'].value_counts().copy() == 1).sum()\n",
    "two = (df['household_id'].value_counts().copy() == 2).sum()\n",
    "over_two = (df['household_id'].value_counts().copy() > 2).sum()\n",
    "\n",
    "print(\"One: {}, Two: {}, Over Two: {}\".format(one, two, over_two))\n",
    "\n",
    "occurrences = df['household_id'].value_counts().copy()\n",
    "household_ids = occurrences[occurrences == 1].index\n",
    "\n",
    "# Dropping households with only 1 answer\n",
    "df = df[~df['household_id'].isin(household_ids)].copy()\n",
    "print(\"Lines deleted\")"
   ]
  },
  {
   "cell_type": "markdown",
   "metadata": {},
   "source": [
    "### Retyping data"
   ]
  },
  {
   "cell_type": "code",
   "execution_count": null,
   "metadata": {},
   "outputs": [],
   "source": [
    "# Retyping columns\n",
    "df['household_id'] = df['household_id'].astype('int64')                 # Quantitative, discrete\n",
    "df['member_id'] = pd.Categorical(df['member_id'])                       # Categorical, binary\n",
    "df['day_of_week'] = pd.Categorical(df['day_of_week'])                   # Categorical, binary\n",
    "df['sex'] = pd.Categorical(df['sex'])                                   # Categorical, binary\n",
    "df['age_group'] = pd.Categorical(df['age_group'], ordered=True)         # Categorical, ordinal \n",
    "df['area'] = pd.Categorical(df['area'])                                 # Categorical, nominal\n",
    "\n",
    "# Categorical, nominal, Int values measuring minutes\n",
    "df['t_working'] = df['t_working'].astype('int64')\n",
    "df['t_cooking'] = df['t_cooking'].astype('int64')\n",
    "df['t_childcare'] = df['t_childcare'].astype('int64')\n",
    "df['t_activity_w_child'] = df['t_activity_w_child'].astype('int64')\n",
    "\n",
    "# Categorical, binary, indicator\n",
    "df['visited_cinema'] = pd.Categorical(df['visited_cinema'])\n",
    "df['visited_theatre'] = pd.Categorical(df['visited_theatre'])\n",
    "\n",
    "df.dtypes\n",
    "\n",
    "\n",
    "# Deleting NaN values or replacing with 0 -> if replaced, may introduce bias towards not going. \n"
   ]
  },
  {
   "cell_type": "markdown",
   "metadata": {},
   "source": [
    "#### Values to human readable format"
   ]
  },
  {
   "cell_type": "code",
   "execution_count": null,
   "metadata": {},
   "outputs": [],
   "source": [
    "df['day_of_week'] = df['day_of_week'].replace({1: 'weekday', 2: 'weekend'})\n",
    "df['sex'] = df['sex'].replace({1: 'male', 2: 'female'})\n",
    "df['area'] = df['area'].replace({1: 'city', 2: 'municipality', 3: 'rural'})\n",
    "df['age_group'] = df['age_group'].replace({\n",
    "    1: \"10-14\",\n",
    "    2: \"15-19\",\n",
    "    3: \"20-24\",\n",
    "    4: \"25-34\",\n",
    "    5: \"35-44\",\n",
    "    6: \"45-54\",\n",
    "    7: \"55-64\",\n",
    "    8: \"65-74\",\n",
    "    9: \"75+\"\n",
    "})\n",
    "# Warnings of deprecated function but works"
   ]
  },
  {
   "cell_type": "code",
   "execution_count": null,
   "metadata": {},
   "outputs": [],
   "source": [
    "# Checking ID values for anomalies\n",
    "print('ID max:', df.household_id.max())\n",
    "print('ID min:', df.household_id.min())\n",
    "print(\"Unique ID's:\", df.household_id.nunique())\n",
    "\n",
    "# Looks OK\n",
    "# Few household_ids are missing since we deleted some rows and did not re_index++# Time spent in activities\n",
    "# Check weekend and weekday separately\n"
   ]
  },
  {
   "cell_type": "markdown",
   "metadata": {},
   "source": [
    "## 2. Explorative analysis"
   ]
  },
  {
   "cell_type": "markdown",
   "metadata": {},
   "source": [
    "    - Visuals -> hist, plot, heatmap mby?\n",
    "    - Descriptive statistics -> mean, median, std deviation, freq counts \n",
    "    - Figuring out which measures are important\n",
    "    - Recognizing patternd and special groups etc.\n",
    "    - Few hypotheses -> relations, group behaviour etc."
   ]
  },
  {
   "cell_type": "code",
   "execution_count": null,
   "metadata": {},
   "outputs": [],
   "source": [
    "# If I want to see only males -> select Day_of_Week[Workday OR Weekday] AND Sex[Male OR Female]\n",
    "female_workday = df[(df['day_of_week'] == 'workday') & (df['sex'] == 'female')].sort_values('age_group')\n",
    "female_weekend = df[(df['day_of_week'] == 'weekend') & (df['sex'] == 'female')].sort_values('age_group')\n",
    "male_workday = df[(df['day_of_week'] == 'workday') & (df['sex'] == 'male')].sort_values('age_group')\n",
    "male_weekend = df[(df['day_of_week'] == 'weekend') & (df['sex'] == 'male')].sort_values('age_group')\n",
    "\n",
    "male_weekend['t_working'].plot.hist(bins=20, xlabel='Minutes')\n",
    "male_workday['t_working'].plot.hist(bins=20, xlabel='Minutes')\n",
    "female_weekend['t_working'].plot.hist(bins=20, xlabel='Minutes')\n",
    "female_workday['t_working'].plot.hist(bins=20, xlabel='Minutes')"
   ]
  },
  {
   "cell_type": "markdown",
   "metadata": {},
   "source": [
    "### Questions that arises?\n",
    "\n",
    "- Group differences\n",
    "    - Working\n",
    "    - Not working\n",
    "    - Different age groups\n",
    "    - Men and Women\n",
    "\n",
    "- Member ID seems quite irreleveant, unless there is significant behaviour change in them"
   ]
  },
  {
   "cell_type": "markdown",
   "metadata": {},
   "source": [
    "### 2.1 Visuals and plotting"
   ]
  },
  {
   "cell_type": "code",
   "execution_count": null,
   "metadata": {},
   "outputs": [],
   "source": [
    "df.groupby('age_group', observed=False)[['visited_cinema', 'visited_theatre']].value_counts().unstack('age_group').plot.area(stacked=True)\n",
    "\n",
    "# Older people visit less culture events, especially less cinema but prefer only theartre or both but not only cinema."
   ]
  },
  {
   "cell_type": "code",
   "execution_count": null,
   "metadata": {},
   "outputs": [],
   "source": [
    "df.groupby('day_of_week', observed=False)[['visited_cinema', 'visited_theatre']].value_counts().unstack('day_of_week').plot.bar(stacked=True)\n"
   ]
  },
  {
   "cell_type": "code",
   "execution_count": null,
   "metadata": {},
   "outputs": [],
   "source": [
    "# Chekcing rows where no time spent on any activity\n",
    "time_columns = ['t_working', 't_cooking', 't_childcare', 't_activity_w_child']\n",
    "time_df = df[time_columns]\n",
    "ids = df.loc[time_df[time_columns].sum(axis=1) == 0].household_id.value_counts()\n",
    "print(\"Sum of id's with 0 minutes in all 4 fields:\", len(ids))\n",
    "\n",
    "ids = ids[ids > 1].index\n",
    "print(\"Sum of id's where both weekend and weekday activities 0 minutes:\", len(ids))\n",
    "ids\n",
    "\n",
    "df_no_activity = df[(df['household_id'].isin(ids)) & (df['visited_cinema'] == 'No') & (df['visited_theatre'] == 'No') ]\n",
    "len(df_no_activity) / 2 # Amount of individuals that do none of the activities"
   ]
  },
  {
   "cell_type": "code",
   "execution_count": null,
   "metadata": {},
   "outputs": [],
   "source": [
    "# Trying to create subplots with a loop\n",
    "#  Age distributions in relation to sex, area are interesting \n",
    "demographics = ['member_id', 'area', 'sex', 'age_group']\n",
    "\n",
    "columns = len(demographics)\n",
    "rows = int(columns / 2)\n",
    "fig, axes = plt.subplots(nrows=rows, ncols=2, figsize=(10, 5 * rows))\n",
    "axes = axes.flatten()\n",
    "\n",
    "# Previous method axes.flatten() creates a list to iterate over with a single digit\n",
    "# Subplots for each column with demogrpaphic types\n",
    "for i, column in enumerate(demographics):\n",
    "    df.groupby([column], observed=False)['household_id'].nunique().plot.bar(ax=axes[i], fontsize=14)\n",
    "    axes[i].set_title(f'Unique Household IDs by {column}')\n",
    "    axes[i].set_ylabel('Count of Unique Household IDs')\n",
    "    axes[i].set_xlabel(column)\n",
    "\n",
    "plt.tight_layout()\n",
    "plt.show()\n",
    "\n",
    "# Density plots ???\n",
    "\n",
    "# df[df['sex'] == 'female'].groupby(['age_group', 'area']).size().unstack().plot(xlabel='female', kind='bar', ax=axes[1], stacked=True)\n"
   ]
  },
  {
   "cell_type": "code",
   "execution_count": null,
   "metadata": {},
   "outputs": [],
   "source": [
    "# Creating subplots individually\n",
    "# Calculated in respect to individual households ~336\n",
    "\n",
    "# Mean values for men and women living in different areas\n",
    "df_male = df[df['sex'] == 'male'][['household_id','age_group','area']].groupby(['age_group','area'], observed=True).nunique()\n",
    "df_female = df[df['sex'] == 'female'][['household_id','age_group','area']].groupby(['age_group', 'area'], observed=True).nunique()\n",
    "\n",
    "fig, axes = plt.subplots(nrows=2, \n",
    "                         ncols=2, \n",
    "                         figsize=(10, 10))\n",
    "\n",
    "df_male.unstack('area').plot(kind='bar', ax=axes[0,0])\n",
    "df_male.unstack('area').plot(kind='density', ax=axes[1,0])\n",
    "df_female.unstack('area').plot(kind='bar', ax=axes[0,1])\n",
    "df_female.unstack('area').plot(kind='density', ax=axes[1,1])\n",
    "\n",
    "\n"
   ]
  },
  {
   "cell_type": "markdown",
   "metadata": {},
   "source": [
    "Observed = True shows: \n",
    "- that there is no younger age_groups in Male population in areas of municipality and rural\n",
    "- And female population in municipality also lacks answerers"
   ]
  },
  {
   "cell_type": "code",
   "execution_count": null,
   "metadata": {},
   "outputs": [],
   "source": [
    "fig, axes = plt.subplots(nrows=1, \n",
    "                         ncols=2, \n",
    "                         sharey=True, \n",
    "                         sharex=True, \n",
    "                         figsize=(12, 6),\n",
    "                         )\n",
    "\n",
    "# For area duplicates are not needed\n",
    "unique_df = df.drop_duplicates(subset='household_id', keep='first')\n",
    "unique_df\n",
    "\n",
    "unique_df[unique_df['sex'] == 'male'].groupby(['age_group', 'area'], observed=True).size().unstack('area').plot(kind='line', ax=axes[0], fontsize=14, linewidth=2)\n",
    "unique_df[unique_df['sex'] == 'female'].groupby(['age_group', 'area'], observed=True).size().unstack('area').plot(kind='line', ax=axes[1], fontsize=14, linewidth=2)\n",
    "\n",
    "fig.suptitle('Line plots for area of living')\n",
    "axes[0].set(xlabel='Male')\n",
    "axes[1].set(xlabel='Female')"
   ]
  },
  {
   "cell_type": "code",
   "execution_count": null,
   "metadata": {},
   "outputs": [],
   "source": [
    "sex_sums = df[['sex']].value_counts()\n",
    "ratio = sex_sums.female.sum() / sex_sums.male.sum()\n",
    "ratio\n",
    "# There is {ratio} times more female than men overall"
   ]
  },
  {
   "cell_type": "markdown",
   "metadata": {},
   "source": [
    "### 2.2 Numerical variables measuring time\n",
    "Mean median std deviation and frequencies\n",
    "\n"
   ]
  },
  {
   "cell_type": "markdown",
   "metadata": {},
   "source": [
    "#### Means ans deviations without grouping"
   ]
  },
  {
   "cell_type": "code",
   "execution_count": null,
   "metadata": {},
   "outputs": [],
   "source": [
    "list = ['t_working', 't_cooking', 't_childcare', 't_activity_w_child']\n",
    "# print(df['day_of_week' == 'Weekday'][list].std())\n",
    "weekday_mean = df[df['day_of_week'] == 'weekday'][list].mean()\n",
    "workday_mean = df[df['day_of_week'] == 'weekend'][list].mean()\n",
    "\n",
    "weekday_std = df[df['day_of_week'] == 'weekday'][list].std()\n",
    "workday_std = df[df['day_of_week'] == 'weekend'][list].std()\n",
    "\n",
    "pd.concat([weekday_mean, workday_mean, weekday_std, workday_std], axis=1, keys=['Weekday Mean', 'Weekend Mean', 'Weekday Std', 'Weekend Std']).round(2)\n",
    "\n"
   ]
  },
  {
   "cell_type": "markdown",
   "metadata": {},
   "source": [
    "#### Grouped by sex"
   ]
  },
  {
   "cell_type": "code",
   "execution_count": null,
   "metadata": {},
   "outputs": [],
   "source": [
    "list = ['sex','t_working', 't_cooking', 't_childcare', 't_activity_w_child']\n",
    "weekday_mean = df[df['day_of_week'] == 'weekday'][list].groupby('sex', observed=False).mean()\n",
    "pd.concat([weekday_mean], axis=1, keys=['Weekday Mean']).round(2)"
   ]
  },
  {
   "cell_type": "code",
   "execution_count": null,
   "metadata": {},
   "outputs": [],
   "source": [
    "list = ['sex','t_working', 't_cooking', 't_childcare', 't_activity_w_child']\n",
    "weekend_mean = df[df['day_of_week'] == 'weekend'][list].groupby('sex', observed=False).mean()\n",
    "pd.concat([weekend_mean], axis=1, keys=['Weekend Mean']).round(2)"
   ]
  },
  {
   "cell_type": "markdown",
   "metadata": {},
   "source": [
    "#### Grouped by age_group"
   ]
  },
  {
   "cell_type": "code",
   "execution_count": null,
   "metadata": {},
   "outputs": [],
   "source": [
    "list = ['age_group','t_working', 't_cooking', 't_childcare', 't_activity_w_child']\n",
    "weekday_mean = df[df['day_of_week'] == 'weekday'][list].groupby('age_group', observed=False).mean()\n",
    "pd.concat([weekday_mean], axis=1, keys=['Weekday Mean']).round(2)"
   ]
  },
  {
   "cell_type": "code",
   "execution_count": null,
   "metadata": {},
   "outputs": [],
   "source": [
    "weekend_mean = df[df['day_of_week'] == 'weekend'][list].groupby('age_group', observed=False).mean()\n",
    "pd.concat([weekend_mean], axis=1, keys=['Weekend Mean']).round(2)"
   ]
  },
  {
   "cell_type": "markdown",
   "metadata": {},
   "source": [
    "#### Grouped by area"
   ]
  },
  {
   "cell_type": "code",
   "execution_count": null,
   "metadata": {},
   "outputs": [],
   "source": [
    "list = ['area','t_working', 't_cooking', 't_childcare', 't_activity_w_child']\n",
    "weekday_mean = df[df['day_of_week'] == 'weekday'][list].groupby('area', observed=False).mean()\n",
    "pd.concat([weekday_mean], axis=1, keys=['Weekday Mean']).round(2)"
   ]
  },
  {
   "cell_type": "code",
   "execution_count": null,
   "metadata": {},
   "outputs": [],
   "source": [
    "weekend_mean = df[df['day_of_week'] == 'weekend'][list].groupby('area', observed=False).mean()\n",
    "pd.concat([weekend_mean], axis=1, keys=['Weekend Mean']).round(2)"
   ]
  },
  {
   "cell_type": "markdown",
   "metadata": {},
   "source": [
    "- T_working, std deviation indicates high difference in working time values because mean is only less than 2 hours\n",
    "\n",
    "- Same gous through out the data. It seems time spent on these activities are quite low on average with respectively high deviation, that indicates that most of whom spend time on these activities spend significantly more than the average and many people do not spend time at all or very little\n",
    "\n",
    "- I there is groups that are employed and unemployed. Groups that have childern or grandchildren or live at home, therefore spending time on childcare and act_w_child. \n",
    "\n",
    "- Means and deviations with groups age, sex and municipality should be done to observe more."
   ]
  },
  {
   "cell_type": "markdown",
   "metadata": {},
   "source": [
    "### 2.3 Categorical variables characteristics"
   ]
  },
  {
   "cell_type": "code",
   "execution_count": null,
   "metadata": {},
   "outputs": [],
   "source": [
    "# Living area distribution\n",
    "counts = df['area'].value_counts().copy()\n",
    "\n",
    "women_count = (df.drop_duplicates(subset='household_id')['sex'] == 'female').sum()\n",
    "print(women_count)\n",
    "area_sex_counts = df.groupby(['area', 'sex'], observed=False).size().unstack().copy()\n",
    "axis3 = (area_sex_counts / 2).plot(kind='bar', title='Distribution of Men and Women in Living Area')\n",
    "axis3.set_xticklabels(axis3.get_xticklabels(), rotation=0)"
   ]
  },
  {
   "cell_type": "code",
   "execution_count": 1514,
   "metadata": {},
   "outputs": [],
   "source": [
    "# Filter the dataframe to include only rows where Day_of_Week is 1\n",
    "df_workday = df[df['day_of_week'] == 2].copy()\n",
    "\n",
    "# Convert to numeric\n",
    "df_scatter_workday = df_workday.apply(pd.to_numeric, errors='coerce')\n",
    "\n",
    "# Select the columns to normalize (columns 5 to 9)\n",
    "columns_to_normalize = df_scatter_workday.columns[5:10]\n",
    "\n",
    "# Apply the rank method to normalize to percentiles\n",
    "df_scatter_workday[columns_to_normalize] = df_scatter_workday[columns_to_normalize].rank(pct=True)\n",
    "\n",
    "# Ensure 'Visited_Theatre' is of type int64\n",
    "df_scatter_workday['visited_theatre'] = df_scatter_workday['visited_theatre'].astype('int64')\n",
    "\n",
    "# Plot the scatter matrix\n",
    "# scatter_matrix = pd.plotting.scatter_matrix(df_scatter_workday.iloc[:, 4:10], figsize=(10, 10))\n"
   ]
  },
  {
   "cell_type": "code",
   "execution_count": 1515,
   "metadata": {},
   "outputs": [],
   "source": [
    "# Plot distributions of categorical variables\n",
    "categorical_columns = ['day_of_week', 'sex', 'age_group', 'area']  # Day of week, Sex, Age, Area"
   ]
  },
  {
   "cell_type": "markdown",
   "metadata": {},
   "source": [
    "### 2.4 Recognizing groups by activity\n",
    "\n",
    "#### Answering to questions\n",
    "3. With respect to which activities do men and women differ?\n",
    "4. With respect to which activities do living environments differ?\n",
    "\n",
    "Employed and unemployed\n",
    "People who go to theatre and cinema tend to live in citys\n",
    "Cook a lot -> lives somewhere?\n",
    "\n",
    "Employment percentage in citys and other areas"
   ]
  },
  {
   "cell_type": "markdown",
   "metadata": {},
   "source": [
    "#### Employed and unemployed dataframes"
   ]
  },
  {
   "cell_type": "code",
   "execution_count": null,
   "metadata": {},
   "outputs": [],
   "source": [
    "employed = df[df['t_working'] > 0]\n",
    "unemployed = df[df['t_working'] == 0]\n",
    "employed.head()\n",
    "\n",
    "\n",
    "# working = numerical['t_working']\n",
    "# cooking = numerical['t_cooking']\n",
    "# childcare = numerical['t_childcare']\n",
    "# w_child = numerical['t_activity_w_child']\n"
   ]
  },
  {
   "cell_type": "code",
   "execution_count": null,
   "metadata": {},
   "outputs": [],
   "source": [
    "employed['visited_cinema'] = employed['visited_cinema'].map({'Yes': 1, 'No': 0}).astype(bool)\n",
    "employed['visited_theatre'] = employed['visited_theatre'].map({'Yes': 1, 'No': 0}).astype(bool)\n",
    "unemployed['visited_cinema'] = unemployed['visited_cinema'].map({'Yes': 1, 'No': 0}).astype(bool)\n",
    "unemployed['visited_theatre'] = unemployed['visited_theatre'].map({'Yes': 1, 'No': 0}).astype(bool)"
   ]
  },
  {
   "cell_type": "markdown",
   "metadata": {},
   "source": [
    "#### 2.4.1 Visited theatre and cinema"
   ]
  },
  {
   "cell_type": "markdown",
   "metadata": {},
   "source": [
    "##### Visited activities //  group 'age'"
   ]
  },
  {
   "cell_type": "code",
   "execution_count": null,
   "metadata": {},
   "outputs": [],
   "source": [
    "employed.groupby('age_group', observed=False)[['visited_theatre', 'visited_cinema']].mean()"
   ]
  },
  {
   "cell_type": "code",
   "execution_count": null,
   "metadata": {},
   "outputs": [],
   "source": [
    "unemployed.groupby('age_group', observed=False)[['visited_theatre', 'visited_cinema']].mean()"
   ]
  },
  {
   "cell_type": "markdown",
   "metadata": {},
   "source": [
    "##### Visited activities // group 'sex'"
   ]
  },
  {
   "cell_type": "code",
   "execution_count": null,
   "metadata": {},
   "outputs": [],
   "source": [
    "employed.groupby('sex', observed=False)[['visited_theatre', 'visited_cinema']].mean()"
   ]
  },
  {
   "cell_type": "code",
   "execution_count": null,
   "metadata": {},
   "outputs": [],
   "source": [
    "unemployed.groupby('sex', observed=False)[['visited_theatre', 'visited_cinema']].mean()"
   ]
  },
  {
   "cell_type": "markdown",
   "metadata": {},
   "source": [
    "#### 2.4.2 Time spent on activities "
   ]
  },
  {
   "cell_type": "markdown",
   "metadata": {},
   "source": [
    "##### Time spent // group 'sex'"
   ]
  },
  {
   "cell_type": "code",
   "execution_count": null,
   "metadata": {},
   "outputs": [],
   "source": [
    "# employed.groupby('age_group').value_counts()['t_working']\n",
    "# Group by 'age_group' in the employed DataFrame\n",
    "employed.groupby('sex', observed=False)[['t_working', 't_cooking', 't_childcare', 't_activity_w_child']].mean().round(3)\n"
   ]
  },
  {
   "cell_type": "code",
   "execution_count": null,
   "metadata": {},
   "outputs": [],
   "source": [
    "unemployed.groupby('sex', observed=False)[['t_working', 't_cooking', 't_childcare', 't_activity_w_child']].mean().round(3)\n"
   ]
  },
  {
   "cell_type": "markdown",
   "metadata": {},
   "source": [
    "##### Time spent // group 'age'"
   ]
  },
  {
   "cell_type": "code",
   "execution_count": null,
   "metadata": {},
   "outputs": [],
   "source": [
    "employed.groupby('age_group', observed=False)[['t_working', 't_cooking', 't_childcare', 't_activity_w_child']].mean().round(3)"
   ]
  },
  {
   "cell_type": "code",
   "execution_count": null,
   "metadata": {},
   "outputs": [],
   "source": [
    "unemployed.groupby('age_group', observed=False)[['t_working', 't_cooking', 't_childcare', 't_activity_w_child']].median().round(3)"
   ]
  },
  {
   "cell_type": "markdown",
   "metadata": {},
   "source": [
    "##### Time spent // group 'area'"
   ]
  },
  {
   "cell_type": "code",
   "execution_count": null,
   "metadata": {},
   "outputs": [],
   "source": [
    "employed.groupby('area', observed=False)[['t_working', 't_cooking', 't_childcare', 't_activity_w_child']].mean().round(3)"
   ]
  },
  {
   "cell_type": "markdown",
   "metadata": {},
   "source": [
    "#### 2.4.3 People who are working all week"
   ]
  },
  {
   "cell_type": "code",
   "execution_count": null,
   "metadata": {},
   "outputs": [],
   "source": [
    "df_w = df[df['t_working'] > 0]\n",
    "id_counts = df_w.groupby('household_id', observed=False).size()\n",
    "id_two_entries = id_counts[id_counts == 2].index\n",
    "\n",
    "df_w[df_w['household_id'].isin(id_two_entries)].copy()"
   ]
  },
  {
   "cell_type": "code",
   "execution_count": null,
   "metadata": {},
   "outputs": [],
   "source": [
    "df_wc = df[df['t_working'] > 0]\n",
    "df_wc[df_wc['t_cooking'] > 0]"
   ]
  },
  {
   "cell_type": "code",
   "execution_count": null,
   "metadata": {},
   "outputs": [],
   "source": [
    "df_wc = df[df['t_working'] == 0]\n",
    "df_wc[df_wc['t_cooking'] > 0]"
   ]
  },
  {
   "cell_type": "code",
   "execution_count": null,
   "metadata": {},
   "outputs": [],
   "source": [
    "# Calculate median for each activity, excluding zero values\n",
    "household_medians_nonzero = df[df['t_working'] > 0].groupby('household_id')['t_working'].median().median(), \\\n",
    "                            df[df['t_cooking'] > 0].groupby('household_id')['t_cooking'].median().median(), \\\n",
    "                            df[df['t_childcare'] > 0].groupby('household_id')['t_childcare'].median().median(), \\\n",
    "                            df[df['t_activity_w_child'] > 0].groupby('household_id')['t_activity_w_child'].median().median()\n",
    "\n",
    "print(\"Median time spent (excluding zero values):\\n\", household_medians_nonzero)\n"
   ]
  },
  {
   "cell_type": "markdown",
   "metadata": {},
   "source": [
    "#### By weekday and weekend"
   ]
  },
  {
   "cell_type": "code",
   "execution_count": 1531,
   "metadata": {},
   "outputs": [],
   "source": [
    "df_weekday = df[df['day_of_week'] == 'weekday']\n",
    "df_weekend = df[df['day_of_week'] == 'weekend']"
   ]
  },
  {
   "cell_type": "markdown",
   "metadata": {},
   "source": [
    "#### People who are not working"
   ]
  },
  {
   "cell_type": "code",
   "execution_count": null,
   "metadata": {},
   "outputs": [],
   "source": [
    "df_wc = df_weekday[df_weekday['t_working'] == 0]\n",
    "df_wc_ck = df_wc[df_wc['t_cooking'] == 0]\n",
    "df_wc.describe().round(2)"
   ]
  },
  {
   "cell_type": "markdown",
   "metadata": {},
   "source": [
    "### 3. Patterns and hypothesis\n",
    "\n",
    "1. Characterise the individuals that are present in the data. Are there groups of similar persons?\n",
    "    Trivial groups -> Age, Area, sex\n",
    "    Groups via activity -> how to know??\n",
    "\n",
    "    Not so trivial groups -> employed, unemployed, cook alot?, with children, visitin culture, not visiting culture\n",
    "\n",
    "2. Estimate how much time on average households spend daily on each activity.\n",
    "    Mean values + medians, -> Task: calculate medians\n",
    "\n",
    "5. Which activities are associated with each other?\n",
    "    Task: calculate Correlations with activities"
   ]
  },
  {
   "cell_type": "markdown",
   "metadata": {},
   "source": [
    "## 4. Statistical Analysis"
   ]
  },
  {
   "cell_type": "markdown",
   "metadata": {},
   "source": [
    "1. Kruskal-Wallis test for numerival variables t_activities\n",
    "\n",
    "2. Pearsons Chi-squared test for multiple categorical values -> value_counts as occurrences"
   ]
  },
  {
   "cell_type": "markdown",
   "metadata": {},
   "source": [
    "1. Difference in groups\n",
    "    1. Unemployed - employed\n",
    "    1. Working only \n",
    "2. Find out if activities attract certain people\n",
    "3. "
   ]
  },
  {
   "cell_type": "code",
   "execution_count": null,
   "metadata": {},
   "outputs": [],
   "source": [
    "df_weekday_time = df_weekday[['t_working', 't_cooking', 't_childcare', 't_activity_w_child']]\n",
    "df_weekend_time = df_weekend[['t_working', 't_cooking', 't_childcare', 't_activity_w_child']]\n",
    "df_weekday_time.describe().round(2)"
   ]
  },
  {
   "cell_type": "code",
   "execution_count": null,
   "metadata": {},
   "outputs": [],
   "source": [
    "\n",
    "# pd.plotting.scatter_matrix(df_weekday_time, figsize=(20,20))\n",
    "df_weekday_time.corr(method='spearman')"
   ]
  },
  {
   "cell_type": "markdown",
   "metadata": {},
   "source": [
    "### Statistical Tests"
   ]
  },
  {
   "cell_type": "markdown",
   "metadata": {},
   "source": [
    "### Correlation\n",
    "\n",
    "Overall could be assumed that age, sex and region will group particioners similiarly.\n",
    "\n",
    "Correlations still are quite low generally with max values at around 0.43 and -0.27"
   ]
  }
 ],
 "metadata": {
  "kernelspec": {
   "display_name": "Python 3",
   "language": "python",
   "name": "python3"
  },
  "language_info": {
   "codemirror_mode": {
    "name": "ipython",
    "version": 3
   },
   "file_extension": ".py",
   "mimetype": "text/x-python",
   "name": "python",
   "nbconvert_exporter": "python",
   "pygments_lexer": "ipython3",
   "version": "3.11.0"
  }
 },
 "nbformat": 4,
 "nbformat_minor": 2
}
