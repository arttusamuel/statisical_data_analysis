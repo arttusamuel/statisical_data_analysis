{
 "cells": [
  {
   "cell_type": "markdown",
   "metadata": {},
   "source": [
    "# Project work\n",
    "\n",
    "## TASKS\n",
    "- Explorative analysis\n",
    "    - Data cleaning\n",
    "    - Basic statistics\n",
    "    - Figuring out which measures are important\n",
    "- Statistical Tests\n",
    "    - Estimation about parameter(s) that best represent the population\n",
    "    - Hyphothese and its testing\n",
    "- Must do a statistical model"
   ]
  },
  {
   "cell_type": "markdown",
   "metadata": {},
   "source": [
    "## Reviewing criteria\n",
    "- Data preparation\n",
    "- Use of descriptive statistics\n",
    "- Use of estimation and statistical test\n",
    "- Argumentation for design choices\n",
    "- interpretation of results\n",
    "\n",
    "## Tasks from the hypothetical scheme\n",
    "1. Characterise the individuals that are present in the data. Are there groups of similar persons?\n",
    "    - Distributions for all categorical values\n",
    "    - Find out if certain age, sex, and municipality groups have similiar activities\n",
    "2. Estimate how much time on average households spend daily on each activity.\n",
    "    - try out mean and medians for activities\n",
    "3. With respect to which activities do men and women differ?\n",
    "4. With respect to which activities do living environments differ?\n",
    "5. Which activities are associated with each other?"
   ]
  },
  {
   "cell_type": "code",
   "execution_count": 93,
   "metadata": {},
   "outputs": [],
   "source": [
    "import pandas as pd\n",
    "import numpy as np\n",
    "import matplotlib.pyplot as plt\n",
    "\n",
    "\n",
    "\n",
    "# import seaborn as sns\n",
    "\n",
    "# Loading data\n",
    "df = pd.read_csv('./habits.data',\n",
    "                sep=\";\",\n",
    "                na_values=[\"?\"],\n",
    "                index_col=False,\n",
    "                header=0)\n",
    "\n",
    "\n",
    "\n",
    "# Naming columns \n",
    "# Listing variable types\n",
    "# df['jasen'].values.dtype\n",
    "# Deleting variables not needed\n",
    "# df.drop(['jasen'], axis=1, inplace=True)\n",
    "# Filling missing values\n",
    "# print(df.index.size, end=\"\\n\\n\")\n",
    "# Calculating missing values\n",
    "# print((df.isna()).sum(axis=0), end=\"\\n\\n\")\n",
    "# Deleting missing values\n",
    "# print(df.dropna().index.size, end=\"\\n\\n\")"
   ]
  },
  {
   "cell_type": "markdown",
   "metadata": {},
   "source": [
    "Ikäluokkaryhmiä 1-2 eli alle 20 vuotiaita ei ole tuloksissa ollenkaan\n",
    "Vastanneiden painopiste intuitiivisesti on jossain luokan 6 kohdalla.\n",
    "Vastaa intuitiivisesti yläpäähän painottuvaa normaalijakaumaa"
   ]
  },
  {
   "cell_type": "markdown",
   "metadata": {},
   "source": [
    "### Demographic variables\n",
    "- kohde - household ID: nominal\n",
    "- jasen - member ID (within household): nominal\n",
    "- pvknro - day of week: nominal\n",
    "    - 1 = working day\n",
    "    - 2 = weekend\n",
    "\n",
    "- sp - sex: nominal\n",
    "    - 1 = male\n",
    "    - 2 = female\n",
    "- IKAL1 - age group: ordinal\n",
    "    - 1 = 10-14 years old\n",
    "    - 2 = 15-19 years old\n",
    "    - 3 = 20-24 years old\n",
    "    - 4 = 25-34 years old\n",
    "    - 5 = 35-44 years old\n",
    "    - 6 = 45-54 years old\n",
    "    - 7 = 55-64 years old\n",
    "    - 8 = 65-74 years old\n",
    "    - 9 = 75- years old\n",
    "\n",
    "- ASALUE - living environment: nominal\n",
    "    - 1 = city\n",
    "    - 2 = municipality\n",
    "    - 3 = rural area\n",
    "\n",
    "### Activity variables\n",
    "Time spent on activities (measured in minutes): ratio\n",
    "\n",
    "- V1 - working: ratio\n",
    "- V5 - cooking: ratio\n",
    "- V21 - childcare: ratio\n",
    "- V22 - reading and playing with children: ratio\n",
    "\n",
    "Place visited in past 12 months \n",
    "- Values: indicator\n",
    "    - 1 = yes\n",
    "    - 2 = no\n",
    "\n",
    "- H1a_A - cinema: indicator\n",
    "- H1b_A - theater: indicator\n"
   ]
  },
  {
   "cell_type": "code",
   "execution_count": 94,
   "metadata": {},
   "outputs": [
    {
     "name": "stdout",
     "output_type": "stream",
     "text": [
      "     kohde  jasen  pvknro  sp  IKAL1  ASALUE   V1 V21 V22  V5  H1a_A  H1b_A\n",
      "0    50002      1       1   1      6     1.0    0   0   0   0    2.0    2.0\n",
      "1    50002      1       2   1      6     1.0  380   0   0  10    2.0    2.0\n",
      "2    50003      1       1   2      5     2.0    0  50   0  60    2.0    1.0\n",
      "3    50003      1       2   2      5     2.0    0  50   0  50    2.0    1.0\n",
      "4    50004      2       1   1      7     1.0  640   0   0   0    2.0    1.0\n",
      "..     ...    ...     ...  ..    ...     ...  ...  ..  ..  ..    ...    ...\n",
      "740  51980      1       2   2      6     2.0  460   0   0  20    1.0    1.0\n",
      "741  51981      2       1   1      5     1.0    0   0   0   0    NaN    NaN\n",
      "742  51981      2       2   1      5     1.0    0  10   0   0    NaN    NaN\n",
      "743  51983      1       1   2      8     3.0  NaN   0   0  40    1.0    2.0\n",
      "744  51983      1       2   2      8     3.0    0   0   0  90    1.0    2.0\n",
      "\n",
      "[745 rows x 12 columns]\n"
     ]
    }
   ],
   "source": [
    "# Keep relevant columns\n",
    "columns_to_keep = ['kohde', 'jasen', 'pvknro', 'sp', 'IKAL1', 'ASALUE', 'V1', 'V21', 'V22', 'V5', 'H1a_A', 'H1b_A']\n",
    "df = df[columns_to_keep]\n",
    "print(df)\n"
   ]
  },
  {
   "cell_type": "code",
   "execution_count": 95,
   "metadata": {},
   "outputs": [],
   "source": [
    "# df = df.apply(pd.to_numeric, errors='coerce')\n",
    "# print(df.sum(axis=0).sort_values(ascending=False), end=\"\\n\\n\")"
   ]
  },
  {
   "cell_type": "code",
   "execution_count": 96,
   "metadata": {},
   "outputs": [
    {
     "name": "stdout",
     "output_type": "stream",
     "text": [
      "<class 'pandas.core.frame.DataFrame'>\n",
      "RangeIndex: 745 entries, 0 to 744\n",
      "Data columns (total 12 columns):\n",
      " #   Column  Non-Null Count  Dtype  \n",
      "---  ------  --------------  -----  \n",
      " 0   kohde   745 non-null    int64  \n",
      " 1   jasen   745 non-null    int64  \n",
      " 2   pvknro  745 non-null    int64  \n",
      " 3   sp      745 non-null    int64  \n",
      " 4   IKAL1   745 non-null    int64  \n",
      " 5   ASALUE  745 non-null    float64\n",
      " 6   V1      734 non-null    object \n",
      " 7   V21     739 non-null    object \n",
      " 8   V22     738 non-null    object \n",
      " 9   V5      740 non-null    object \n",
      " 10  H1a_A   701 non-null    float64\n",
      " 11  H1b_A   701 non-null    float64\n",
      "dtypes: float64(3), int64(5), object(4)\n",
      "memory usage: 70.0+ KB\n"
     ]
    }
   ],
   "source": [
    "df.info()"
   ]
  },
  {
   "cell_type": "code",
   "execution_count": 97,
   "metadata": {},
   "outputs": [
    {
     "data": {
      "text/html": [
       "<div>\n",
       "<style scoped>\n",
       "    .dataframe tbody tr th:only-of-type {\n",
       "        vertical-align: middle;\n",
       "    }\n",
       "\n",
       "    .dataframe tbody tr th {\n",
       "        vertical-align: top;\n",
       "    }\n",
       "\n",
       "    .dataframe thead th {\n",
       "        text-align: right;\n",
       "    }\n",
       "</style>\n",
       "<table border=\"1\" class=\"dataframe\">\n",
       "  <thead>\n",
       "    <tr style=\"text-align: right;\">\n",
       "      <th></th>\n",
       "      <th>kohde</th>\n",
       "      <th>jasen</th>\n",
       "      <th>pvknro</th>\n",
       "      <th>sp</th>\n",
       "      <th>IKAL1</th>\n",
       "      <th>ASALUE</th>\n",
       "      <th>H1a_A</th>\n",
       "      <th>H1b_A</th>\n",
       "    </tr>\n",
       "  </thead>\n",
       "  <tbody>\n",
       "    <tr>\n",
       "      <th>count</th>\n",
       "      <td>745.00</td>\n",
       "      <td>745.00</td>\n",
       "      <td>745.00</td>\n",
       "      <td>745.00</td>\n",
       "      <td>745.00</td>\n",
       "      <td>745.00</td>\n",
       "      <td>701.00</td>\n",
       "      <td>701.00</td>\n",
       "    </tr>\n",
       "    <tr>\n",
       "      <th>mean</th>\n",
       "      <td>51016.84</td>\n",
       "      <td>1.36</td>\n",
       "      <td>1.49</td>\n",
       "      <td>1.52</td>\n",
       "      <td>6.10</td>\n",
       "      <td>1.58</td>\n",
       "      <td>3.36</td>\n",
       "      <td>3.27</td>\n",
       "    </tr>\n",
       "    <tr>\n",
       "      <th>std</th>\n",
       "      <td>587.44</td>\n",
       "      <td>0.48</td>\n",
       "      <td>0.50</td>\n",
       "      <td>0.50</td>\n",
       "      <td>1.59</td>\n",
       "      <td>0.82</td>\n",
       "      <td>20.07</td>\n",
       "      <td>17.48</td>\n",
       "    </tr>\n",
       "    <tr>\n",
       "      <th>min</th>\n",
       "      <td>50002.00</td>\n",
       "      <td>1.00</td>\n",
       "      <td>1.00</td>\n",
       "      <td>1.00</td>\n",
       "      <td>3.00</td>\n",
       "      <td>1.00</td>\n",
       "      <td>0.00</td>\n",
       "      <td>0.00</td>\n",
       "    </tr>\n",
       "    <tr>\n",
       "      <th>25%</th>\n",
       "      <td>50518.00</td>\n",
       "      <td>1.00</td>\n",
       "      <td>1.00</td>\n",
       "      <td>1.00</td>\n",
       "      <td>5.00</td>\n",
       "      <td>1.00</td>\n",
       "      <td>1.00</td>\n",
       "      <td>1.00</td>\n",
       "    </tr>\n",
       "    <tr>\n",
       "      <th>50%</th>\n",
       "      <td>51053.00</td>\n",
       "      <td>1.00</td>\n",
       "      <td>1.00</td>\n",
       "      <td>2.00</td>\n",
       "      <td>6.00</td>\n",
       "      <td>1.00</td>\n",
       "      <td>2.00</td>\n",
       "      <td>2.00</td>\n",
       "    </tr>\n",
       "    <tr>\n",
       "      <th>75%</th>\n",
       "      <td>51524.00</td>\n",
       "      <td>2.00</td>\n",
       "      <td>2.00</td>\n",
       "      <td>2.00</td>\n",
       "      <td>7.00</td>\n",
       "      <td>2.00</td>\n",
       "      <td>2.00</td>\n",
       "      <td>2.00</td>\n",
       "    </tr>\n",
       "    <tr>\n",
       "      <th>max</th>\n",
       "      <td>51983.00</td>\n",
       "      <td>2.00</td>\n",
       "      <td>2.00</td>\n",
       "      <td>2.00</td>\n",
       "      <td>9.00</td>\n",
       "      <td>3.00</td>\n",
       "      <td>360.00</td>\n",
       "      <td>300.00</td>\n",
       "    </tr>\n",
       "  </tbody>\n",
       "</table>\n",
       "</div>"
      ],
      "text/plain": [
       "          kohde   jasen  pvknro      sp   IKAL1  ASALUE   H1a_A   H1b_A\n",
       "count    745.00  745.00  745.00  745.00  745.00  745.00  701.00  701.00\n",
       "mean   51016.84    1.36    1.49    1.52    6.10    1.58    3.36    3.27\n",
       "std      587.44    0.48    0.50    0.50    1.59    0.82   20.07   17.48\n",
       "min    50002.00    1.00    1.00    1.00    3.00    1.00    0.00    0.00\n",
       "25%    50518.00    1.00    1.00    1.00    5.00    1.00    1.00    1.00\n",
       "50%    51053.00    1.00    1.00    2.00    6.00    1.00    2.00    2.00\n",
       "75%    51524.00    2.00    2.00    2.00    7.00    2.00    2.00    2.00\n",
       "max    51983.00    2.00    2.00    2.00    9.00    3.00  360.00  300.00"
      ]
     },
     "execution_count": 97,
     "metadata": {},
     "output_type": "execute_result"
    }
   ],
   "source": [
    "# Describes the data \n",
    "df.describe().round(2)"
   ]
  },
  {
   "cell_type": "code",
   "execution_count": 98,
   "metadata": {},
   "outputs": [
    {
     "data": {
      "text/plain": [
       "kohde      0\n",
       "jasen      0\n",
       "pvknro     0\n",
       "sp         0\n",
       "IKAL1      0\n",
       "ASALUE     0\n",
       "V1        11\n",
       "V21        6\n",
       "V22        7\n",
       "V5         5\n",
       "H1a_A     44\n",
       "H1b_A     44\n",
       "dtype: int64"
      ]
     },
     "execution_count": 98,
     "metadata": {},
     "output_type": "execute_result"
    }
   ],
   "source": [
    "df.isnull().sum()\n",
    "\n",
    "# Paljon null-arvoja, poistetaanko? poistetaan\n",
    "# Paljon nollia, pitäisikö jättää vain rivit jotka ovat täynnä dataa? ei poisteta"
   ]
  },
  {
   "cell_type": "code",
   "execution_count": 99,
   "metadata": {},
   "outputs": [
    {
     "data": {
      "text/plain": [
       "kohde     378\n",
       "jasen       2\n",
       "pvknro      2\n",
       "sp          2\n",
       "IKAL1       7\n",
       "ASALUE      3\n",
       "V1         82\n",
       "V21        38\n",
       "V22        25\n",
       "V5         30\n",
       "H1a_A       7\n",
       "H1b_A       7\n",
       "dtype: int64"
      ]
     },
     "execution_count": 99,
     "metadata": {},
     "output_type": "execute_result"
    }
   ],
   "source": [
    "df.nunique()"
   ]
  },
  {
   "cell_type": "code",
   "execution_count": 100,
   "metadata": {},
   "outputs": [
    {
     "data": {
      "text/html": [
       "<div>\n",
       "<style scoped>\n",
       "    .dataframe tbody tr th:only-of-type {\n",
       "        vertical-align: middle;\n",
       "    }\n",
       "\n",
       "    .dataframe tbody tr th {\n",
       "        vertical-align: top;\n",
       "    }\n",
       "\n",
       "    .dataframe thead th {\n",
       "        text-align: right;\n",
       "    }\n",
       "</style>\n",
       "<table border=\"1\" class=\"dataframe\">\n",
       "  <thead>\n",
       "    <tr style=\"text-align: right;\">\n",
       "      <th></th>\n",
       "      <th>kohde</th>\n",
       "      <th>jasen</th>\n",
       "      <th>pvknro</th>\n",
       "      <th>sp</th>\n",
       "      <th>IKAL1</th>\n",
       "      <th>ASALUE</th>\n",
       "      <th>V1</th>\n",
       "      <th>V21</th>\n",
       "      <th>V22</th>\n",
       "      <th>V5</th>\n",
       "      <th>H1a_A</th>\n",
       "      <th>H1b_A</th>\n",
       "    </tr>\n",
       "  </thead>\n",
       "  <tbody>\n",
       "    <tr>\n",
       "      <th>382</th>\n",
       "      <td>51075</td>\n",
       "      <td>2</td>\n",
       "      <td>2</td>\n",
       "      <td>1</td>\n",
       "      <td>9</td>\n",
       "      <td>3.0</td>\n",
       "      <td>0</td>\n",
       "      <td>0</td>\n",
       "      <td>0</td>\n",
       "      <td>10</td>\n",
       "      <td>NaN</td>\n",
       "      <td>NaN</td>\n",
       "    </tr>\n",
       "    <tr>\n",
       "      <th>431</th>\n",
       "      <td>51212</td>\n",
       "      <td>1</td>\n",
       "      <td>1</td>\n",
       "      <td>1</td>\n",
       "      <td>9</td>\n",
       "      <td>1.0</td>\n",
       "      <td>0</td>\n",
       "      <td>0</td>\n",
       "      <td>0</td>\n",
       "      <td>140</td>\n",
       "      <td>2.0</td>\n",
       "      <td>1.0</td>\n",
       "    </tr>\n",
       "    <tr>\n",
       "      <th>346</th>\n",
       "      <td>50977</td>\n",
       "      <td>1</td>\n",
       "      <td>2</td>\n",
       "      <td>2</td>\n",
       "      <td>9</td>\n",
       "      <td>1.0</td>\n",
       "      <td>0</td>\n",
       "      <td>0</td>\n",
       "      <td>0</td>\n",
       "      <td>20</td>\n",
       "      <td>1.0</td>\n",
       "      <td>2.0</td>\n",
       "    </tr>\n",
       "    <tr>\n",
       "      <th>654</th>\n",
       "      <td>51750</td>\n",
       "      <td>1</td>\n",
       "      <td>2</td>\n",
       "      <td>1</td>\n",
       "      <td>9</td>\n",
       "      <td>1.0</td>\n",
       "      <td>60</td>\n",
       "      <td>0</td>\n",
       "      <td>0</td>\n",
       "      <td>0</td>\n",
       "      <td>2.0</td>\n",
       "      <td>1.0</td>\n",
       "    </tr>\n",
       "    <tr>\n",
       "      <th>653</th>\n",
       "      <td>51750</td>\n",
       "      <td>1</td>\n",
       "      <td>1</td>\n",
       "      <td>1</td>\n",
       "      <td>9</td>\n",
       "      <td>1.0</td>\n",
       "      <td>0</td>\n",
       "      <td>0</td>\n",
       "      <td>0</td>\n",
       "      <td>0</td>\n",
       "      <td>2.0</td>\n",
       "      <td>1.0</td>\n",
       "    </tr>\n",
       "  </tbody>\n",
       "</table>\n",
       "</div>"
      ],
      "text/plain": [
       "     kohde  jasen  pvknro  sp  IKAL1  ASALUE  V1 V21 V22   V5  H1a_A  H1b_A\n",
       "382  51075      2       2   1      9     3.0   0   0   0   10    NaN    NaN\n",
       "431  51212      1       1   1      9     1.0   0   0   0  140    2.0    1.0\n",
       "346  50977      1       2   2      9     1.0   0   0   0   20    1.0    2.0\n",
       "654  51750      1       2   1      9     1.0  60   0   0    0    2.0    1.0\n",
       "653  51750      1       1   1      9     1.0   0   0   0    0    2.0    1.0"
      ]
     },
     "execution_count": 100,
     "metadata": {},
     "output_type": "execute_result"
    }
   ],
   "source": [
    "df.sort_values(by='IKAL1', ascending=False).head(5)"
   ]
  },
  {
   "cell_type": "markdown",
   "metadata": {},
   "source": [
    "### Data cleaning\n",
    "At first glance NaN-values will be dropped, but may change over the study if effect on results seem good either way. \n",
    "\n",
    "At first I thought of filling zero values with mean or medians but they would heavily influence the results pushing up correlation and other metrics. It seems that particioners have deliberatley chosen 0 minutes and therefore they are not active on these metrics at all. This must be included in the results."
   ]
  },
  {
   "cell_type": "code",
   "execution_count": 101,
   "metadata": {},
   "outputs": [
    {
     "data": {
      "text/plain": [
       "668"
      ]
     },
     "execution_count": 101,
     "metadata": {},
     "output_type": "execute_result"
    }
   ],
   "source": [
    "df_filtered = df.dropna()\n",
    "# Drop rows with more than 1 zero\n",
    "#df_filtered = df_filtered[df_filtered.apply(lambda x: (x == 0).sum() < 2, axis=1)]\n",
    "# Replace zeros with mean values\n",
    "#df_filled_mean = df_filtered.apply(lambda x: x.replace(0, x.mean()) if x.name in df_filtered.columns else x)\n",
    "# Replace zeros with median values\n",
    "#df_filled_median = df_filtered.apply(lambda x: x.replace(0, x.median()) if x.name in df_filtered.columns else x)\n",
    "len(df_filtered)"
   ]
  },
  {
   "cell_type": "code",
   "execution_count": 105,
   "metadata": {},
   "outputs": [
    {
     "data": {
      "text/plain": [
       "<Axes: title={'center': 'Density Plot of IKAL1'}, ylabel='Density'>"
      ]
     },
     "execution_count": 105,
     "metadata": {},
     "output_type": "execute_result"
    },
    {
     "data": {
      "image/png": "[encoded data removed]",
      "text/plain": [
       "<Figure size 1200x600 with 2 Axes>"
      ]
     },
     "metadata": {},
     "output_type": "display_data"
    }
   ],
   "source": [
    "fig, axes = plt.subplots(nrows=1, ncols=2, figsize=(12, 6))\n",
    "\n",
    "df['IKAL1'].sort_values().plot(kind='hist', bins=20, ax=axes[0], title='Histogram of IKAL1')\n",
    "\n",
    "# Density plot\n",
    "\n",
    "df['IKAL1'].dropna().sort_values().plot(kind='density', ax=axes[1], title='Density Plot of IKAL1')\n",
    "\n",
    "# plt.tight_layout()\n",
    "# plt.show()"
   ]
  },
  {
   "cell_type": "markdown",
   "metadata": {},
   "source": [
    "### Correlation\n",
    "\n",
    "Overall could be assumed that age, sex and region will group particioners similiarly.\n",
    "\n",
    "Correlations still are quite low generally with max values at around 0.43 and -0.27"
   ]
  },
  {
   "cell_type": "code",
   "execution_count": 106,
   "metadata": {},
   "outputs": [
    {
     "ename": "ValueError",
     "evalue": "could not convert string to float: '00:00'",
     "output_type": "error",
     "traceback": [
      "\u001b[1;31m---------------------------------------------------------------------------\u001b[0m",
      "\u001b[1;31mValueError\u001b[0m                                Traceback (most recent call last)",
      "Cell \u001b[1;32mIn[106], line 1\u001b[0m\n\u001b[1;32m----> 1\u001b[0m \u001b[43mdf\u001b[49m\u001b[38;5;241;43m.\u001b[39;49m\u001b[43mcorr\u001b[49m\u001b[43m(\u001b[49m\u001b[43m)\u001b[49m\u001b[38;5;241m.\u001b[39mwhere(\u001b[38;5;28;01mlambda\u001b[39;00m x: (x \u001b[38;5;241m<\u001b[39m \u001b[38;5;241m-\u001b[39m\u001b[38;5;241m0.2\u001b[39m) \u001b[38;5;241m|\u001b[39m (x \u001b[38;5;241m>\u001b[39m \u001b[38;5;241m0.2\u001b[39m))\u001b[38;5;241m.\u001b[39mround(\u001b[38;5;241m3\u001b[39m)\n\u001b[0;32m      3\u001b[0m \u001b[38;5;66;03m# Measured in minutes\u001b[39;00m\n\u001b[0;32m      4\u001b[0m \u001b[38;5;66;03m# V1 - working\u001b[39;00m\n\u001b[0;32m      5\u001b[0m \u001b[38;5;66;03m# V5 - cooking\u001b[39;00m\n\u001b[1;32m   (...)\u001b[0m\n\u001b[0;32m     10\u001b[0m \u001b[38;5;66;03m# H1a_A - cinema\u001b[39;00m\n\u001b[0;32m     11\u001b[0m \u001b[38;5;66;03m# H1b_A - theater\u001b[39;00m\n",
      "File \u001b[1;32mc:\\Python311\\Lib\\site-packages\\pandas\\core\\frame.py:11036\u001b[0m, in \u001b[0;36mDataFrame.corr\u001b[1;34m(self, method, min_periods, numeric_only)\u001b[0m\n\u001b[0;32m  11034\u001b[0m cols \u001b[38;5;241m=\u001b[39m data\u001b[38;5;241m.\u001b[39mcolumns\n\u001b[0;32m  11035\u001b[0m idx \u001b[38;5;241m=\u001b[39m cols\u001b[38;5;241m.\u001b[39mcopy()\n\u001b[1;32m> 11036\u001b[0m mat \u001b[38;5;241m=\u001b[39m \u001b[43mdata\u001b[49m\u001b[38;5;241;43m.\u001b[39;49m\u001b[43mto_numpy\u001b[49m\u001b[43m(\u001b[49m\u001b[43mdtype\u001b[49m\u001b[38;5;241;43m=\u001b[39;49m\u001b[38;5;28;43mfloat\u001b[39;49m\u001b[43m,\u001b[49m\u001b[43m \u001b[49m\u001b[43mna_value\u001b[49m\u001b[38;5;241;43m=\u001b[39;49m\u001b[43mnp\u001b[49m\u001b[38;5;241;43m.\u001b[39;49m\u001b[43mnan\u001b[49m\u001b[43m,\u001b[49m\u001b[43m \u001b[49m\u001b[43mcopy\u001b[49m\u001b[38;5;241;43m=\u001b[39;49m\u001b[38;5;28;43;01mFalse\u001b[39;49;00m\u001b[43m)\u001b[49m\n\u001b[0;32m  11038\u001b[0m \u001b[38;5;28;01mif\u001b[39;00m method \u001b[38;5;241m==\u001b[39m \u001b[38;5;124m\"\u001b[39m\u001b[38;5;124mpearson\u001b[39m\u001b[38;5;124m\"\u001b[39m:\n\u001b[0;32m  11039\u001b[0m     correl \u001b[38;5;241m=\u001b[39m libalgos\u001b[38;5;241m.\u001b[39mnancorr(mat, minp\u001b[38;5;241m=\u001b[39mmin_periods)\n",
      "File \u001b[1;32mc:\\Python311\\Lib\\site-packages\\pandas\\core\\frame.py:1981\u001b[0m, in \u001b[0;36mDataFrame.to_numpy\u001b[1;34m(self, dtype, copy, na_value)\u001b[0m\n\u001b[0;32m   1979\u001b[0m \u001b[38;5;28;01mif\u001b[39;00m dtype \u001b[38;5;129;01mis\u001b[39;00m \u001b[38;5;129;01mnot\u001b[39;00m \u001b[38;5;28;01mNone\u001b[39;00m:\n\u001b[0;32m   1980\u001b[0m     dtype \u001b[38;5;241m=\u001b[39m np\u001b[38;5;241m.\u001b[39mdtype(dtype)\n\u001b[1;32m-> 1981\u001b[0m result \u001b[38;5;241m=\u001b[39m \u001b[38;5;28;43mself\u001b[39;49m\u001b[38;5;241;43m.\u001b[39;49m\u001b[43m_mgr\u001b[49m\u001b[38;5;241;43m.\u001b[39;49m\u001b[43mas_array\u001b[49m\u001b[43m(\u001b[49m\u001b[43mdtype\u001b[49m\u001b[38;5;241;43m=\u001b[39;49m\u001b[43mdtype\u001b[49m\u001b[43m,\u001b[49m\u001b[43m \u001b[49m\u001b[43mcopy\u001b[49m\u001b[38;5;241;43m=\u001b[39;49m\u001b[43mcopy\u001b[49m\u001b[43m,\u001b[49m\u001b[43m \u001b[49m\u001b[43mna_value\u001b[49m\u001b[38;5;241;43m=\u001b[39;49m\u001b[43mna_value\u001b[49m\u001b[43m)\u001b[49m\n\u001b[0;32m   1982\u001b[0m \u001b[38;5;28;01mif\u001b[39;00m result\u001b[38;5;241m.\u001b[39mdtype \u001b[38;5;129;01mis\u001b[39;00m \u001b[38;5;129;01mnot\u001b[39;00m dtype:\n\u001b[0;32m   1983\u001b[0m     result \u001b[38;5;241m=\u001b[39m np\u001b[38;5;241m.\u001b[39marray(result, dtype\u001b[38;5;241m=\u001b[39mdtype, copy\u001b[38;5;241m=\u001b[39m\u001b[38;5;28;01mFalse\u001b[39;00m)\n",
      "File \u001b[1;32mc:\\Python311\\Lib\\site-packages\\pandas\\core\\internals\\managers.py:1692\u001b[0m, in \u001b[0;36mBlockManager.as_array\u001b[1;34m(self, dtype, copy, na_value)\u001b[0m\n\u001b[0;32m   1690\u001b[0m         arr\u001b[38;5;241m.\u001b[39mflags\u001b[38;5;241m.\u001b[39mwriteable \u001b[38;5;241m=\u001b[39m \u001b[38;5;28;01mFalse\u001b[39;00m\n\u001b[0;32m   1691\u001b[0m \u001b[38;5;28;01melse\u001b[39;00m:\n\u001b[1;32m-> 1692\u001b[0m     arr \u001b[38;5;241m=\u001b[39m \u001b[38;5;28;43mself\u001b[39;49m\u001b[38;5;241;43m.\u001b[39;49m\u001b[43m_interleave\u001b[49m\u001b[43m(\u001b[49m\u001b[43mdtype\u001b[49m\u001b[38;5;241;43m=\u001b[39;49m\u001b[43mdtype\u001b[49m\u001b[43m,\u001b[49m\u001b[43m \u001b[49m\u001b[43mna_value\u001b[49m\u001b[38;5;241;43m=\u001b[39;49m\u001b[43mna_value\u001b[49m\u001b[43m)\u001b[49m\n\u001b[0;32m   1693\u001b[0m     \u001b[38;5;66;03m# The underlying data was copied within _interleave, so no need\u001b[39;00m\n\u001b[0;32m   1694\u001b[0m     \u001b[38;5;66;03m# to further copy if copy=True or setting na_value\u001b[39;00m\n\u001b[0;32m   1696\u001b[0m \u001b[38;5;28;01mif\u001b[39;00m na_value \u001b[38;5;129;01mis\u001b[39;00m lib\u001b[38;5;241m.\u001b[39mno_default:\n",
      "File \u001b[1;32mc:\\Python311\\Lib\\site-packages\\pandas\\core\\internals\\managers.py:1751\u001b[0m, in \u001b[0;36mBlockManager._interleave\u001b[1;34m(self, dtype, na_value)\u001b[0m\n\u001b[0;32m   1749\u001b[0m     \u001b[38;5;28;01melse\u001b[39;00m:\n\u001b[0;32m   1750\u001b[0m         arr \u001b[38;5;241m=\u001b[39m blk\u001b[38;5;241m.\u001b[39mget_values(dtype)\n\u001b[1;32m-> 1751\u001b[0m     \u001b[43mresult\u001b[49m\u001b[43m[\u001b[49m\u001b[43mrl\u001b[49m\u001b[38;5;241;43m.\u001b[39;49m\u001b[43mindexer\u001b[49m\u001b[43m]\u001b[49m \u001b[38;5;241m=\u001b[39m arr\n\u001b[0;32m   1752\u001b[0m     itemmask[rl\u001b[38;5;241m.\u001b[39mindexer] \u001b[38;5;241m=\u001b[39m \u001b[38;5;241m1\u001b[39m\n\u001b[0;32m   1754\u001b[0m \u001b[38;5;28;01mif\u001b[39;00m \u001b[38;5;129;01mnot\u001b[39;00m itemmask\u001b[38;5;241m.\u001b[39mall():\n",
      "\u001b[1;31mValueError\u001b[0m: could not convert string to float: '00:00'"
     ]
    }
   ],
   "source": [
    "# Needs to be done with numeric data only\n",
    "df.corr().where(lambda x: (x < -0.2) | (x > 0.2)).round(3)\n",
    "\n",
    "# Measured in minutes\n",
    "# V1 - working\n",
    "# V5 - cooking\n",
    "# V21 - childcare\n",
    "# V22 - reading and playing with children\n",
    "\n",
    "# 1 = yes, 2 = no   \n",
    "# H1a_A - cinema\n",
    "# H1b_A - theater"
   ]
  },
  {
   "cell_type": "code",
   "execution_count": 47,
   "metadata": {},
   "outputs": [
    {
     "name": "stdout",
     "output_type": "stream",
     "text": [
      "Error in counting\n",
      " 1's: 478\n",
      " 2's: 267\n",
      " Total count: 601\n",
      " Fault values: []\n"
     ]
    }
   ],
   "source": [
    "# Counting individual values in column 'jasen' and testing if errors\n",
    "one, two, faults = 0, 0, 0\n",
    "fault_values = []\n",
    "count = len(df_filtered.jasen)\n",
    "\n",
    "for value in df.jasen.values:\n",
    "    if value == 1:\n",
    "        one += 1\n",
    "    elif value == 2:\n",
    "        two += 1 \n",
    "    else:\n",
    "        print(value)\n",
    "        fault_values.append(value)\n",
    "        \n",
    "if count != one + two:\n",
    "    print(\"Error in counting\")\n",
    "\n",
    "print(f\" 1's: {one}\\n\", f\"2's: {two}\\n\", f\"Total count: {count}\\n\", f\"Fault values: {fault_values}\")"
   ]
  }
 ],
 "metadata": {
  "kernelspec": {
   "display_name": ".venv",
   "language": "python",
   "name": "python3"
  },
  "language_info": {
   "codemirror_mode": {
    "name": "ipython",
    "version": 3
   },
   "file_extension": ".py",
   "mimetype": "text/x-python",
   "name": "python",
   "nbconvert_exporter": "python",
   "pygments_lexer": "ipython3",
   "version": "3.11.0"
  }
 },
 "nbformat": 4,
 "nbformat_minor": 2
}
