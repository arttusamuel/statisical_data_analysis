{
 "cells": [
  {
   "cell_type": "markdown",
   "metadata": {},
   "source": [
    "\n",
    "## E2 T1 Article 1\n",
    "\n",
    "- Identify the variables used in the given parts of the following two articles and determine their types. (NOTE: You may have to browse through the whole article in order to fully understand the study.)\n",
    "\n",
    "- Perinteisin keinoin riksitekijöitä / ominaisuuksia tutkiessa käytetään vain pientä osaa niistä, joilla saattaa olla sisäisiä keskinäisiä suhteita sairauden syihin / indikoijiin. \n",
    "\n",
    "- Koneoppimisen avulla voidaan havaita monimutkaisia attribuuttien suhteita, jotka tavanomaisesti voisivat jäädä huomiotta. \n",
    "\n",
    "- Attribuuttien määrä\n",
    "    - Demographic 4 (väestötieteellinen)\n",
    "    - Clincal 8 (kliininen)\n",
    "    - Functional 9 (toiminnallinen)\n",
    "    - Total 21\n",
    "    - Irrelevantteja 5\n",
    "    - Hyödyksi käytettyjä 16\n"
   ]
  },
  {
   "cell_type": "markdown",
   "metadata": {},
   "source": []
  },
  {
   "cell_type": "markdown",
   "metadata": {},
   "source": [
    "## Myocardial ischemia\n",
    "\n",
    "- Ei käytettyjä\n",
    "    - Smoking - bool\n",
    "    - Sex - m / f\n",
    "    - BMI - int\n",
    "    - Stress Diastolic BP - int or float\n",
    "    - Stress HR - int or float\n",
    "    \n",
    "- Dyslipidemia - bool\n",
    "- Family History of CAD - bool\n",
    "- Stress Systolic BP - int or float\n",
    "- Rest LVEF - float 0-1 or int 0-100\n",
    "- DM2\n",
    "- Abnormal Rest ECG - bool\n",
    "- Hypertension - bool\n",
    "- Rest Diastolic BP - int\n",
    "- Type of Chest Complaints - categorical\n",
    "- Duke Score - int 0 - 100\n",
    "- Abnormal Stress ECG - categorical\n",
    "- % of max HR - float 0-1 or int 0-100\n",
    "- Age - int\n",
    "- Stress LVEF - float 0-1 or int 0-100\n",
    "- Rest Systolic BP - int\n",
    "- Rest HR - int"
   ]
  },
  {
   "cell_type": "markdown",
   "metadata": {},
   "source": [
    "## Increased risk of MACE\n",
    "\n",
    "- Ei käytettyjä: \n",
    "    - Family History of CAD\n",
    "    - Smoking\n",
    "    - BMI\n",
    "    - Stress Diastolic BP\n",
    "    - Stress HR\n",
    "\n",
    "- DM2\n",
    "- Dyslipidemia\n",
    "- Sex\n",
    "- Stress Systolic BP\n",
    "- Rest Diastolic BP\n",
    "- % of max HR\n",
    "- Hypertension\n",
    "- Abnormal Rest ECG\n",
    "- Duke Score\n",
    "- Abnormal Stress ECG\n",
    "- Type of Chest Complaints\n",
    "- Rest LVEF\n",
    "- Stress LVEF\n",
    "- Rest Systolic BP\n",
    "- Age\n",
    "- Rest HR"
   ]
  },
  {
   "cell_type": "markdown",
   "metadata": {},
   "source": [
    "# Article 2\n",
    "\n",
    "### Figure 1 \n",
    "\n",
    "- HSD high salt diet\n",
    "- NSD normal salt diet\n",
    "\n",
    "Kaikissa kuvaajissa tulokset erikseen uros ja naaras -hiirillä \n",
    "- a kuvaajat esittää NSD - HSD dieettien observaatioita kasvaimen painon suhteen\n",
    "- b kuvaajat esittää kasvaimen läpimittaa ajan suhteen (päivinä)\n",
    "- c kuvaajat esittää selviytymisprosenttia ajan suhteen NSD ja HSD -dieeteillä\n",
    "\n",
    "- d kuvissa kasvaimet mallia 4T1 (oranssi) ja B16F10 (musta), joissa vasemmalla NSD ja oikealla HSD\n",
    "\n",
    "### Figure 2\n",
    "\n",
    "Categorical attributes in organs : thymus, liver, spleen, heart, lung\n",
    "Two different diets : HSD and NSD\n",
    "\n",
    "Other:\n",
    "- Na+\n",
    "- Cl-\n",
    "- K+\n",
    "- Content in serum \n",
    "- Content weight % in Na+, Cl- and K+\n",
    "- Osmolality in organs serum, thymus, liver, spleen, heart, lung -> both diets HSD and NSD"
   ]
  },
  {
   "cell_type": "markdown",
   "metadata": {},
   "source": []
  },
  {
   "cell_type": "markdown",
   "metadata": {},
   "source": []
  },
  {
   "cell_type": "markdown",
   "metadata": {},
   "source": []
  }
 ],
 "metadata": {
  "language_info": {
   "name": "python"
  }
 },
 "nbformat": 4,
 "nbformat_minor": 2
}
